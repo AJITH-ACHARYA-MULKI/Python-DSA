{
  "nbformat": 4,
  "nbformat_minor": 0,
  "metadata": {
    "colab": {
      "provenance": [],
      "authorship_tag": "ABX9TyPj8t5nmwBwTMVWxo1jLrpp",
      "include_colab_link": true
    },
    "kernelspec": {
      "name": "python3",
      "display_name": "Python 3"
    },
    "language_info": {
      "name": "python"
    }
  },
  "cells": [
    {
      "cell_type": "markdown",
      "metadata": {
        "id": "view-in-github",
        "colab_type": "text"
      },
      "source": [
        "<a href=\"https://colab.research.google.com/github/AJITH-ACHARYA-MULKI/Python-DSA/blob/main/test_db.ipynb\" target=\"_parent\"><img src=\"https://colab.research.google.com/assets/colab-badge.svg\" alt=\"Open In Colab\"/></a>"
      ]
    },
    {
      "cell_type": "code",
      "execution_count": 1,
      "metadata": {
        "colab": {
          "base_uri": "https://localhost:8080/"
        },
        "id": "95-b4Q_4BjoN",
        "outputId": "8da87db7-cc76-4be6-ab3f-186f2419fb41"
      },
      "outputs": [
        {
          "output_type": "stream",
          "name": "stdout",
          "text": [
            "Collecting mysql-connector\n",
            "  Downloading mysql-connector-2.2.9.tar.gz (11.9 MB)\n",
            "\u001b[2K     \u001b[90m━━━━━━━━━━━━━━━━━━━━━━━━━━━━━━━━━━━━━━━━\u001b[0m \u001b[32m11.9/11.9 MB\u001b[0m \u001b[31m21.2 MB/s\u001b[0m eta \u001b[36m0:00:00\u001b[0m\n",
            "\u001b[?25h  Preparing metadata (setup.py) ... \u001b[?25l\u001b[?25hdone\n",
            "Building wheels for collected packages: mysql-connector\n",
            "  Building wheel for mysql-connector (setup.py) ... \u001b[?25l\u001b[?25hdone\n",
            "  Created wheel for mysql-connector: filename=mysql_connector-2.2.9-cp310-cp310-linux_x86_64.whl size=247953 sha256=c2eb88db0dcc928199d073fee214975f23c8bf23b7eca9901e716a9546709803\n",
            "  Stored in directory: /root/.cache/pip/wheels/76/48/9b/da67ff1a18fe8e9d428f9b1a177716d4a7d363d2bbe83bf6cf\n",
            "Successfully built mysql-connector\n",
            "Installing collected packages: mysql-connector\n",
            "Successfully installed mysql-connector-2.2.9\n"
          ]
        }
      ],
      "source": [
        "!pip install mysql-connector"
      ]
    },
    {
      "cell_type": "code",
      "source": [
        "import mysql.connector\n",
        "con = mysql.connector.connect(host=\"test.c7goyyammlpc.us-east-2.rds.amazonaws.com\", user=\"test\", password=\"Ajith1999\", database=\"test\")\n",
        "cur = con.cursor()\n",
        "cur.execute(\"INSERT INTO Computer VALUES (1005,'Toshiba','Tecra',2013)\")\n",
        "print(cur.rowcount)\n",
        "cur.close()\n",
        "con.close()"
      ],
      "metadata": {
        "colab": {
          "base_uri": "https://localhost:8080/"
        },
        "id": "7JqUTHqzHYxR",
        "outputId": "ff78e30c-2442-40df-81d8-385f7696ea53"
      },
      "execution_count": 4,
      "outputs": [
        {
          "output_type": "stream",
          "name": "stdout",
          "text": [
            "<mysql.connector.connection.MySQLConnection object at 0x79d09eeca3e0>\n"
          ]
        }
      ]
    }
  ]
}