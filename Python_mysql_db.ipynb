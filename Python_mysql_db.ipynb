{
  "nbformat": 4,
  "nbformat_minor": 0,
  "metadata": {
    "colab": {
      "provenance": [],
      "authorship_tag": "ABX9TyMVBCiaEMMJzt1ZA+xUnO4J",
      "include_colab_link": true
    },
    "kernelspec": {
      "name": "python3",
      "display_name": "Python 3"
    },
    "language_info": {
      "name": "python"
    }
  },
  "cells": [
    {
      "cell_type": "markdown",
      "metadata": {
        "id": "view-in-github",
        "colab_type": "text"
      },
      "source": [
        "<a href=\"https://colab.research.google.com/github/AJITH-ACHARYA-MULKI/Python-DSA/blob/main/Python_mysql_db.ipynb\" target=\"_parent\"><img src=\"https://colab.research.google.com/assets/colab-badge.svg\" alt=\"Open In Colab\"/></a>"
      ]
    },
    {
      "cell_type": "code",
      "execution_count": 25,
      "metadata": {
        "colab": {
          "base_uri": "https://localhost:8080/"
        },
        "id": "95-b4Q_4BjoN",
        "outputId": "fe14bd3f-d774-4459-d8ef-97414361bb8e"
      },
      "outputs": [
        {
          "output_type": "stream",
          "name": "stdout",
          "text": [
            "Requirement already satisfied: mysql-connector in /usr/local/lib/python3.10/dist-packages (2.2.9)\n"
          ]
        }
      ],
      "source": [
        "!pip install mysql-connector"
      ]
    },
    {
      "cell_type": "code",
      "source": [
        "import mysql.connector\n",
        "\n",
        "connection = mysql.connector.connect(host=\"test.c7goyyammlpc.us-east-2.rds.amazonaws.com\", user=\"test\", password=\"Ajith1999\", database=\"test\")\n",
        "cursor = connection.cursor()\n",
        "\n",
        "def create_table():\n",
        "    create_table_query = '''\n",
        "    CREATE TABLE IF NOT EXISTS employee (\n",
        "        id INT AUTO_INCREMENT PRIMARY KEY,\n",
        "        Name VARCHAR(255) NOT NULL,\n",
        "        address VARCHAR(255) NOT NULL\n",
        "    )\n",
        "    '''\n",
        "    y = cursor.execute(create_table_query)\n",
        "    connection.commit()\n",
        "    print(\"Table created successfully.\")\n",
        "\n",
        "def create_record(value1, value2):\n",
        "    insert_query = \"INSERT INTO employee (name, address) VALUES (%s, %s)\"\n",
        "    values = (value1, value2)\n",
        "    cursor.execute(insert_query, values)\n",
        "    connection.commit()\n",
        "    print(f\"Inserted ID: {cursor.lastrowid}\")\n",
        "\n",
        "\n",
        "def delete_record(record_id):\n",
        "    delete_query = \"DELETE FROM employee WHERE id = %s\"\n",
        "    cursor.execute(delete_query, (record_id,))\n",
        "    connection.commit()\n",
        "    print(f\"Deleted Rows: {cursor.rowcount}\")\n",
        "\n",
        "\n",
        "try:\n",
        "  create_table()\n",
        "  create_record(\"Ajith\", \"3rd cross\")\n",
        "  delete_record(1)\n",
        "except mysql.connector.ProgrammingError as e:\n",
        "  print(e)\n",
        "cursor.execute(\"select * from employee\")\n",
        "print(cursor.fetchall())"
      ],
      "metadata": {
        "colab": {
          "base_uri": "https://localhost:8080/"
        },
        "id": "7JqUTHqzHYxR",
        "outputId": "bc3b15a2-c656-43da-ea81-37b2c02219b0"
      },
      "execution_count": 26,
      "outputs": [
        {
          "output_type": "stream",
          "name": "stdout",
          "text": [
            "Table created successfully.\n",
            "Inserted ID: 9\n",
            "Deleted Rows: 0\n",
            "[(2, 'value1', 'value2'), (3, 'Ajith', '3rd cross'), (4, 'Ajith', '3rd cross'), (5, 'Ajith', '3rd cross'), (6, 'Ajith', '3rd cross'), (7, 'Ajith', '3rd cross'), (8, 'Ajith', '3rd cross'), (9, 'Ajith', '3rd cross')]\n"
          ]
        }
      ]
    },
    {
      "cell_type": "code",
      "source": [
        "cursor.execute(\"select * from employee\")\n",
        "for row in cursor:\n",
        "  print(row[0], row[1], row[2])\n",
        "  print(row)\n",
        "cursor.execute(\"select * from employee where id=\"+str(7))\n",
        "#CompId=%(c_id)s\", {\"c_id\":id}\n",
        "print(cursor.fetchone())"
      ],
      "metadata": {
        "colab": {
          "base_uri": "https://localhost:8080/"
        },
        "id": "jrzcEVbtbNOg",
        "outputId": "bf3e51d5-dc1c-4b6a-c03f-d798513da0d6"
      },
      "execution_count": null,
      "outputs": [
        {
          "output_type": "stream",
          "name": "stdout",
          "text": [
            "2 value1 value2\n",
            "(2, 'value1', 'value2')\n",
            "3 Ajith 3rd cross\n",
            "(3, 'Ajith', '3rd cross')\n",
            "4 Ajith 3rd cross\n",
            "(4, 'Ajith', '3rd cross')\n",
            "5 Ajith 3rd cross\n",
            "(5, 'Ajith', '3rd cross')\n",
            "6 Ajith 3rd cross\n",
            "(6, 'Ajith', '3rd cross')\n",
            "7 Ajith 3rd cross\n",
            "(7, 'Ajith', '3rd cross')\n",
            "8 Ajith 3rd cross\n",
            "(8, 'Ajith', '3rd cross')\n",
            "(7, 'Ajith', '3rd cross')\n"
          ]
        }
      ]
    },
    {
      "cell_type": "code",
      "source": [
        "cursor.close()\n",
        "connection.close()"
      ],
      "metadata": {
        "id": "_4ljekEiWX8c"
      },
      "execution_count": null,
      "outputs": []
    },
    {
      "cell_type": "code",
      "source": [
        "#stored procedure\n",
        "DELIMITER //\n",
        "CREATE PROCEDURE promotion_discount(IN discount INT, INOUT price INT)\n",
        "BEGIN\n",
        "SET price=price*(1-discount/100);\n",
        "END;\n",
        "//\n",
        "\n",
        "cur = con.cursor()\n",
        "args = [10,1000]\n",
        "res = cur.callproc('promotion_discount', args)\n"
      ],
      "metadata": {
        "id": "FHd1MI3DLylP"
      },
      "execution_count": null,
      "outputs": []
    },
    {
      "cell_type": "code",
      "source": [
        "#stored function\n",
        "DELIMITER //\n",
        "CREATE FUNCTION increase_by_100 (number INT) RETURNS INT\n",
        "BEGIN\n",
        "    RETURN number+100;\n",
        "END;\n",
        "//\n",
        "\n",
        "cur.execute('SELECT increase_by_100(%s)', [10])\n",
        "print(cur.fetchone())"
      ],
      "metadata": {
        "id": "2-Z5HXWhL7xD"
      },
      "execution_count": null,
      "outputs": []
    },
    {
      "cell_type": "code",
      "source": [
        "#DB excersice\n",
        "\n",
        "import mysql.connector\n",
        "\n",
        "connection = mysql.connector.connect(host=\"test.c7goyyammlpc.us-east-2.rds.amazonaws.com\", user=\"test\", password=\"Ajith1999\", database=\"test\")\n",
        "cursor = connection.cursor()\n",
        "\n",
        "def create_table():\n",
        "    create_table_query = '''\n",
        "    CREATE TABLE IF NOT EXISTS Student (\n",
        "        Sid INT AUTO_INCREMENT PRIMARY KEY,\n",
        "        Sname VARCHAR(255) NOT NULL,\n",
        "        course VARCHAR(255) NOT NULL,\n",
        "        marks INT NOT NULL\n",
        "    )\n",
        "    '''\n",
        "    y = cursor.execute(create_table_query)\n",
        "    connection.commit()\n",
        "    print(\"Table created successfully.\")\n",
        "\n",
        "def create_record(*args):\n",
        "    insert_query = \"INSERT INTO Student VALUES (%s, %s, %s, %s)\"\n",
        "    values = (args[0],args[1],args[2],args[3])\n",
        "    cursor.execute(insert_query, values)\n",
        "    connection.commit()\n",
        "    print(f\"Inserted ID: {cursor.lastrowid}\")\n",
        "\n",
        "def update_record(coulmn1, value1, coulmn2, value2):\n",
        "    update_query = \"UPDATE Student SET %s = %s WHERE %s = %s\"\n",
        "    values = (coulmn1, value1, coulmn2, value2)\n",
        "    cursor.execute(update_query, values)\n",
        "    connection.commit()\n",
        "    print(f\"Updated Rows: {cursor.rowcount}\")\n",
        "def display():\n",
        "    cursor.execute(\"select * from Student\")\n",
        "    print(cursor.fetchall())\n",
        "\n",
        "def delete_record1(record_id):\n",
        "    delete_query = \"DELETE FROM Student WHERE Sid = %s\"\n",
        "    cursor.execute(delete_query, (record_id,))\n",
        "    connection.commit()\n",
        "    print(f\"Deleted Rows: {cursor.rowcount}\")\n",
        "\n"
      ],
      "metadata": {
        "id": "XxtdOHDCMIHX"
      },
      "execution_count": 35,
      "outputs": []
    },
    {
      "cell_type": "code",
      "source": [
        "print(\"Selct below options:\")\n",
        "print(\"Enter 1 to add new record/\",\n",
        "       \"Enter 2 to Update an existing student detail\", \"Enter 3 to Remove a student\",\n",
        "      \"Enter 4 to Display a student\", sep = \"\\n\")\n",
        "\n",
        "i = 2\n",
        "\n",
        "try:\n",
        "  create_table()\n",
        "  create_record(1, \"thomas\", \"python\", 82)\n",
        "  #delete_record(1)\n",
        "except mysql.connector.ProgrammingError as e:\n",
        "  print(e)"
      ],
      "metadata": {
        "colab": {
          "base_uri": "https://localhost:8080/"
        },
        "id": "cruLlwrBPW5B",
        "outputId": "db656671-0b51-4648-9ec2-5b057583cb63"
      },
      "execution_count": 18,
      "outputs": [
        {
          "output_type": "stream",
          "name": "stdout",
          "text": [
            "Selct below options:\n",
            "Enter 1 to add new record/\n",
            "Enter 2 to Update an existing student detail\n",
            "Enter 3 to Remove a student\n",
            "Enter 4 to Display a student\n",
            "Table created successfully.\n",
            "Inserted ID: 1\n"
          ]
        }
      ]
    },
    {
      "cell_type": "code",
      "source": [
        "try:\n",
        "  display()\n",
        "  delete_record1(1)\n",
        "  display()\n",
        "except mysql.connector.ProgrammingError as e:\n",
        "  print(e)"
      ],
      "metadata": {
        "colab": {
          "base_uri": "https://localhost:8080/"
        },
        "id": "beE0XuxGWBnP",
        "outputId": "a2387bb6-617e-45f3-c6de-aa31a4424999"
      },
      "execution_count": 36,
      "outputs": [
        {
          "output_type": "stream",
          "name": "stdout",
          "text": [
            "[(1, 'thomas', 'python', 82)]\n",
            "Deleted Rows: 1\n",
            "[]\n"
          ]
        }
      ]
    },
    {
      "cell_type": "code",
      "source": [],
      "metadata": {
        "id": "bQ1zQ1ZQhLh3"
      },
      "execution_count": null,
      "outputs": []
    },
    {
      "cell_type": "code",
      "source": [
        "import mysql.connector\n",
        "\n",
        "connection = mysql.connector.connect(host=\"test.c7goyyammlpc.us-east-2.rds.amazonaws.com\", user=\"test\", password=\"Ajith1999\", database=\"test\")\n",
        "\n",
        "cursor = connection.cursor()\n",
        "\n",
        "# Function to create a table\n",
        "def create_table():\n",
        "    create_table_query = '''\n",
        "    CREATE TABLE IF NOT EXISTS your_table (\n",
        "        id INT AUTO_INCREMENT PRIMARY KEY,\n",
        "        column1 VARCHAR(255) NOT NULL,\n",
        "        column2 VARCHAR(255) NOT NULL\n",
        "    )\n",
        "    '''\n",
        "    cursor.execute(create_table_query)\n",
        "    connection.commit()\n",
        "    print(\"Table created successfully.\")\n",
        "\n",
        "# CREATE operation\n",
        "def create_record():\n",
        "    insert_query = \"INSERT INTO your_table (column1, column2) VALUES (%s, %s)\"\n",
        "    values = (\"value1\", \"value2\")\n",
        "    cursor.execute(insert_query, values)\n",
        "    connection.commit()\n",
        "    print(f\"Inserted ID: {cursor.lastrowid}\")\n",
        "\n",
        "# READ operation\n",
        "def read_records():\n",
        "    select_query = \"SELECT * FROM your_table\"\n",
        "    cursor.execute(select_query)\n",
        "    results = cursor.fetchall()\n",
        "    for row in results:\n",
        "        print(row)\n",
        "\n",
        "# UPDATE operation\n",
        "def update_record(record_id):\n",
        "    update_query = \"UPDATE your_table SET column1 = %s WHERE id = %s\"\n",
        "    values = (\"new_value\", record_id)\n",
        "    cursor.execute(update_query, values)\n",
        "    connection.commit()\n",
        "    print(f\"Updated Rows: {cursor.rowcount}\")\n",
        "\n",
        "# DELETE operation\n",
        "def delete_record(record_id):\n",
        "    delete_query = \"DELETE FROM your_table WHERE id = %s\"\n",
        "    cursor.execute(delete_query, (record_id,))\n",
        "    connection.commit()\n",
        "    print(f\"Deleted Rows: {cursor.rowcount}\")\n",
        "\n",
        "# Use the functions\n",
        "create_table()  # Create the table\n",
        "create_record()  # Insert a record\n",
        "read_records()  # Read the records\n",
        "update_record(record_id=1)  # Update the record with ID 1\n",
        "delete_record(2)  # Delete the record with ID 1\n",
        "\n",
        "# Close the connection\n",
        "cursor.close()\n",
        "connection.close()"
      ],
      "metadata": {
        "colab": {
          "base_uri": "https://localhost:8080/"
        },
        "id": "HCn4-xuZfNJh",
        "outputId": "ab87267d-c2ad-493b-83fa-680a3366a1a2"
      },
      "execution_count": 32,
      "outputs": [
        {
          "output_type": "stream",
          "name": "stdout",
          "text": [
            "Table created successfully.\n",
            "Inserted ID: 3\n",
            "(2, 'value1', 'value2')\n",
            "(3, 'value1', 'value2')\n",
            "Updated Rows: 0\n",
            "Deleted Rows: 1\n"
          ]
        }
      ]
    }
  ]
}